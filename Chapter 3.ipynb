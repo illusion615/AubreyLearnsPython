{
 "cells": [
  {
   "cell_type": "markdown",
   "metadata": {},
   "source": [
    "# Chapter 3 Function"
   ]
  },
  {
   "cell_type": "markdown",
   "metadata": {},
   "source": [
    "## What is function and why needs function?\n",
    "Function is to define the code which can be resued in other place in program.\n",
    "\n",
    "**Benifits**\n",
    "- Simplify the code complexity.\n",
    "-  Easy to read and organze\n",
    "\n",
    "**How to define a function**\n",
    "\n",
    "```\n",
    "How to define a function\n",
    "def functionName(arg,...):\n",
    "    ...\n",
    "    return\n",
    "\n",
    "```"
   ]
  },
  {
   "cell_type": "code",
   "execution_count": 1,
   "metadata": {},
   "outputs": [
    {
     "name": "stdout",
     "output_type": "stream",
     "text": [
      "please choose first number and write on computer.10\n",
      "55\n",
      "please choose second number and write on computer.100\n",
      "5050\n"
     ]
    }
   ],
   "source": [
    "# Demostrate of code without function\n",
    "# Noted: line 10 to 14 are duplicated and can be grouped as a function\n",
    "x = int(input('please choose first number and write on computer.'))\n",
    "r = 0\n",
    "for i in range(1, x + 1):\n",
    "    r = r+i\n",
    "\n",
    "print(r)\n",
    "\n",
    "x = int(input('please choose second number and write on computer.'))\n",
    "r = 0\n",
    "for i in range(1, x + 1):\n",
    "    r = r+i\n",
    "\n",
    "print(r)"
   ]
  },
  {
   "cell_type": "code",
   "execution_count": 2,
   "metadata": {},
   "outputs": [
    {
     "name": "stdout",
     "output_type": "stream",
     "text": [
      "please choose first number and write on computer.10\n",
      "55\n",
      "please choose second number and write on computer.100\n",
      "5050\n"
     ]
    }
   ],
   "source": [
    "# Demo of a function\n",
    "def calculator(msg):\n",
    "    x=int(input(msg))\n",
    "    r = 0\n",
    "    for i in range(1, x + 1):\n",
    "        r = r+i\n",
    "\n",
    "    print(r)\n",
    "\n",
    "calculator('please choose first number and write on computer.')\n",
    "calculator('please choose second number and write on computer.')"
   ]
  },
  {
   "cell_type": "code",
   "execution_count": 3,
   "metadata": {},
   "outputs": [
    {
     "name": "stdout",
     "output_type": "stream",
     "text": [
      "10 is not a number, please use number only.\n",
      "55\n"
     ]
    }
   ],
   "source": [
    "# Another demo of function can return value\n",
    "def mySum(n):\n",
    "    try:\n",
    "        r = 0\n",
    "        for i in range(1, n + 1):\n",
    "            r = r+i\n",
    "\n",
    "        return r\n",
    "    except:\n",
    "        print(n+' is not a number, please use number only.')\n",
    "        return 0\n",
    "\n",
    "\n",
    "x = mySum('10')\n",
    "x = x + mySum(10)\n",
    "\n",
    "print(x)"
   ]
  },
  {
   "cell_type": "code",
   "execution_count": 4,
   "metadata": {},
   "outputs": [
    {
     "name": "stdout",
     "output_type": "stream",
     "text": [
      "Hello World\n",
      "10\n",
      "10.1\n",
      "Hello\n",
      "[1, 2, 3, 4, 5, 6]\n",
      "{'Name': 'Aubrey', 'Age': 9, 'School': 'SD'}\n"
     ]
    }
   ],
   "source": [
    "# Demo of arg key words\n",
    "l = [1, 2, 3, 4, 5, 6]\n",
    "i = 10\n",
    "s = 'Hello'\n",
    "f = 10.1\n",
    "d = {\n",
    "    'Name': 'Aubrey',\n",
    "    'Age': 9,\n",
    "    'School': 'SD'\n",
    "    }\n",
    "# sep arg\n",
    "print('Hello', end=' ')\n",
    "print('World')\n",
    "\n",
    "# print int\n",
    "print(i)\n",
    "\n",
    "# print float\n",
    "print(f)\n",
    "\n",
    "# print string\n",
    "print(s)\n",
    "\n",
    "# print list\n",
    "print(l)\n",
    "\n",
    "# print dictionary\n",
    "print(d)"
   ]
  },
  {
   "cell_type": "markdown",
   "metadata": {},
   "source": [
    "## Variable affection domain"
   ]
  },
  {
   "cell_type": "code",
   "execution_count": 6,
   "metadata": {},
   "outputs": [
    {
     "name": "stdout",
     "output_type": "stream",
     "text": [
      "11\n"
     ]
    }
   ],
   "source": [
    "#Global variable\n",
    "i=10\n",
    "\n",
    "i+=1\n",
    "\n",
    "print(i)"
   ]
  },
  {
   "cell_type": "code",
   "execution_count": 9,
   "metadata": {},
   "outputs": [
    {
     "name": "stdout",
     "output_type": "stream",
     "text": [
      "1\n"
     ]
    }
   ],
   "source": [
    "def function1():\n",
    "    # Local variable\n",
    "    i=10\n",
    "\n",
    "# Global variable\n",
    "i=1\n",
    "function1() # global variable i will not be effected\n",
    "print(i) # Print global variable i, so i still equales to 1"
   ]
  },
  {
   "cell_type": "code",
   "execution_count": 12,
   "metadata": {},
   "outputs": [
    {
     "name": "stdout",
     "output_type": "stream",
     "text": [
      "10\n"
     ]
    }
   ],
   "source": [
    "def function1():\n",
    "    global i # Define i as global variable\n",
    "    i=10 # Change global variable i\n",
    "\n",
    "# Global variable\n",
    "i=1\n",
    "function1() # global variable i changed to 10\n",
    "print(i) # Print global variable i, i equales to 10"
   ]
  },
  {
   "cell_type": "code",
   "execution_count": 17,
   "metadata": {},
   "outputs": [
    {
     "name": "stdout",
     "output_type": "stream",
     "text": [
      "11\n",
      "1\n"
     ]
    }
   ],
   "source": [
    "def function1():\n",
    "    i=10\n",
    "    print(i+1) # As there is no defination of local variable, actually we're calling global variable i\n",
    "\n",
    "# Global variable\n",
    "i=1\n",
    "function1() \n",
    "print(i) "
   ]
  },
  {
   "cell_type": "markdown",
   "metadata": {},
   "source": [
    "## Exceptional handlement\n",
    "\n",
    "```\n",
    "try:\n",
    "    # Code expected to raise error\n",
    "exception:\n",
    "    # run code here if error happened.\n",
    "final:\n",
    "    # Run code at last\n",
    "```"
   ]
  },
  {
   "cell_type": "code",
   "execution_count": 26,
   "metadata": {},
   "outputs": [
    {
     "name": "stdout",
     "output_type": "stream",
     "text": [
      "Error\n",
      "None\n"
     ]
    }
   ],
   "source": [
    "def myDivid(number,dividedBy):\n",
    "    try:\n",
    "        return number/dividedBy\n",
    "    except (ZeroDivisionError, TypeError):\n",
    "        print('Error')\n",
    "\n",
    "x1=10\n",
    "x2='10'\n",
    "\n",
    "r=myDivid(x1,x2)\n",
    "\n",
    "print(r)"
   ]
  }
 ],
 "metadata": {
  "kernelspec": {
   "display_name": "Python 3",
   "language": "python",
   "name": "python3"
  },
  "language_info": {
   "codemirror_mode": {
    "name": "ipython",
    "version": 3
   },
   "file_extension": ".py",
   "mimetype": "text/x-python",
   "name": "python",
   "nbconvert_exporter": "python",
   "pygments_lexer": "ipython3",
   "version": "3.7.7"
  }
 },
 "nbformat": 4,
 "nbformat_minor": 4
}
